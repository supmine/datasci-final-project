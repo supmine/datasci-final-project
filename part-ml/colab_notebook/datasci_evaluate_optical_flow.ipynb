{
  "nbformat": 4,
  "nbformat_minor": 0,
  "metadata": {
    "colab": {
      "name": "datasci-evaluate-optical-flow.ipynb",
      "provenance": []
    },
    "kernelspec": {
      "name": "python3",
      "display_name": "Python 3"
    },
    "language_info": {
      "name": "python"
    }
  },
  "cells": [
    {
      "cell_type": "code",
      "source": [
        "from google.colab import drive\n",
        "drive.mount('/content/drive')"
      ],
      "metadata": {
        "colab": {
          "base_uri": "https://localhost:8080/"
        },
        "id": "WWdVwOl-GVLf",
        "outputId": "0f3a9841-96d7-4310-f150-c3ee70b3d090"
      },
      "execution_count": 23,
      "outputs": [
        {
          "output_type": "stream",
          "name": "stdout",
          "text": [
            "Mounted at /content/drive\n"
          ]
        }
      ]
    },
    {
      "cell_type": "code",
      "source": [
        "from google.colab import auth\n",
        "auth.authenticate_user()"
      ],
      "metadata": {
        "id": "yi5-b6aLHkMb"
      },
      "execution_count": 21,
      "outputs": []
    },
    {
      "cell_type": "code",
      "source": [
        "project_id = 'datasci-kalampree'\n",
        "!gcloud config set project {project_id}\n",
        "\n",
        "!echo \"deb http://packages.cloud.google.com/apt gcsfuse-bionic main\" > /etc/apt/sources.list.d/gcsfuse.list\n",
        "\n",
        "!curl https://packages.cloud.google.com/apt/doc/apt-key.gpg | apt-key add -\n",
        "\n",
        "!apt -qq update\n",
        "\n",
        "!apt -qq install gcsfuse"
      ],
      "metadata": {
        "colab": {
          "base_uri": "https://localhost:8080/"
        },
        "id": "Myak94jfIaLM",
        "outputId": "3a5c9f66-b954-4b0a-a32e-4abce1275c76"
      },
      "execution_count": 22,
      "outputs": [
        {
          "output_type": "stream",
          "name": "stdout",
          "text": [
            "Updated property [core/project].\n",
            "  % Total    % Received % Xferd  Average Speed   Time    Time     Time  Current\n",
            "                                 Dload  Upload   Total   Spent    Left  Speed\n",
            "100  2537  100  2537    0     0  74617      0 --:--:-- --:--:-- --:--:-- 74617\n",
            "OK\n",
            "47 packages can be upgraded. Run 'apt list --upgradable' to see them.\n",
            "gcsfuse is already the newest version (0.41.1).\n",
            "The following package was automatically installed and is no longer required:\n",
            "  libnvidia-common-460\n",
            "Use 'apt autoremove' to remove it.\n",
            "0 upgraded, 0 newly installed, 0 to remove and 47 not upgraded.\n"
          ]
        }
      ]
    },
    {
      "cell_type": "code",
      "source": [
        "!mkdir colab_directory1\n",
        "\n",
        "!gcsfuse --implicit-dirs datasci-kalampree colab_directory1"
      ],
      "metadata": {
        "colab": {
          "base_uri": "https://localhost:8080/"
        },
        "id": "xlYzsEuIIbdp",
        "outputId": "3cfed77b-f6ea-4f37-9cc3-2849fd212d89"
      },
      "execution_count": 24,
      "outputs": [
        {
          "output_type": "stream",
          "name": "stdout",
          "text": [
            "2022/05/20 22:45:34.334158 Start gcsfuse/0.41.1 (Go version go1.17.6) for app \"\" using mount point: /content/colab_directory1\n",
            "2022/05/20 22:45:34.350609 Opening GCS connection...\n",
            "2022/05/20 22:45:34.896248 Mounting file system \"datasci-kalampree\"...\n",
            "2022/05/20 22:45:34.899759 File system has been successfully mounted.\n"
          ]
        }
      ]
    },
    {
      "cell_type": "code",
      "source": [
        "!git clone https://github.com/hydrogo/rainymotion.git"
      ],
      "metadata": {
        "colab": {
          "base_uri": "https://localhost:8080/"
        },
        "id": "30mU02iOHqmx",
        "outputId": "a31b09f9-3eae-4082-b998-28f15547d435"
      },
      "execution_count": 1,
      "outputs": [
        {
          "output_type": "stream",
          "name": "stdout",
          "text": [
            "Cloning into 'rainymotion'...\n",
            "remote: Enumerating objects: 389, done.\u001b[K\n",
            "remote: Total 389 (delta 0), reused 0 (delta 0), pack-reused 389\u001b[K\n",
            "Receiving objects: 100% (389/389), 30.28 MiB | 28.21 MiB/s, done.\n",
            "Resolving deltas: 100% (206/206), done.\n"
          ]
        }
      ]
    },
    {
      "cell_type": "code",
      "source": [
        "!pip install wradlib==1.14"
      ],
      "metadata": {
        "colab": {
          "base_uri": "https://localhost:8080/"
        },
        "id": "7x4Eb2lzIVCC",
        "outputId": "f3fd368b-8e3f-49e4-cb42-312a1fa47ed4"
      },
      "execution_count": 4,
      "outputs": [
        {
          "output_type": "stream",
          "name": "stdout",
          "text": [
            "Collecting wradlib==1.14\n",
            "  Downloading wradlib-1.14.0.tar.gz (266 kB)\n",
            "\u001b[?25l\r\u001b[K     |█▎                              | 10 kB 16.5 MB/s eta 0:00:01\r\u001b[K     |██▌                             | 20 kB 13.7 MB/s eta 0:00:01\r\u001b[K     |███▊                            | 30 kB 10.1 MB/s eta 0:00:01\r\u001b[K     |█████                           | 40 kB 9.1 MB/s eta 0:00:01\r\u001b[K     |██████▏                         | 51 kB 4.7 MB/s eta 0:00:01\r\u001b[K     |███████▍                        | 61 kB 5.5 MB/s eta 0:00:01\r\u001b[K     |████████▋                       | 71 kB 5.7 MB/s eta 0:00:01\r\u001b[K     |█████████▉                      | 81 kB 5.6 MB/s eta 0:00:01\r\u001b[K     |███████████                     | 92 kB 6.2 MB/s eta 0:00:01\r\u001b[K     |████████████▎                   | 102 kB 5.4 MB/s eta 0:00:01\r\u001b[K     |█████████████▌                  | 112 kB 5.4 MB/s eta 0:00:01\r\u001b[K     |██████████████▊                 | 122 kB 5.4 MB/s eta 0:00:01\r\u001b[K     |████████████████                | 133 kB 5.4 MB/s eta 0:00:01\r\u001b[K     |█████████████████▏              | 143 kB 5.4 MB/s eta 0:00:01\r\u001b[K     |██████████████████▍             | 153 kB 5.4 MB/s eta 0:00:01\r\u001b[K     |███████████████████▋            | 163 kB 5.4 MB/s eta 0:00:01\r\u001b[K     |████████████████████▉           | 174 kB 5.4 MB/s eta 0:00:01\r\u001b[K     |██████████████████████          | 184 kB 5.4 MB/s eta 0:00:01\r\u001b[K     |███████████████████████▍        | 194 kB 5.4 MB/s eta 0:00:01\r\u001b[K     |████████████████████████▋       | 204 kB 5.4 MB/s eta 0:00:01\r\u001b[K     |█████████████████████████▉      | 215 kB 5.4 MB/s eta 0:00:01\r\u001b[K     |███████████████████████████     | 225 kB 5.4 MB/s eta 0:00:01\r\u001b[K     |████████████████████████████▎   | 235 kB 5.4 MB/s eta 0:00:01\r\u001b[K     |█████████████████████████████▌  | 245 kB 5.4 MB/s eta 0:00:01\r\u001b[K     |██████████████████████████████▊ | 256 kB 5.4 MB/s eta 0:00:01\r\u001b[K     |████████████████████████████████| 266 kB 5.4 MB/s eta 0:00:01\r\u001b[K     |████████████████████████████████| 266 kB 5.4 MB/s \n",
            "\u001b[?25h  Installing build dependencies ... \u001b[?25l\u001b[?25hdone\n",
            "  Getting requirements to build wheel ... \u001b[?25l\u001b[?25hdone\n",
            "    Preparing wheel metadata ... \u001b[?25l\u001b[?25hdone\n",
            "Collecting deprecation\n",
            "  Using cached deprecation-2.1.0-py2.py3-none-any.whl (11 kB)\n",
            "Requirement already satisfied: packaging in /usr/local/lib/python3.7/dist-packages (from wradlib==1.14) (21.3)\n",
            "Requirement already satisfied: scipy in /usr/local/lib/python3.7/dist-packages (from wradlib==1.14) (1.4.1)\n",
            "Requirement already satisfied: numpy in /usr/local/lib/python3.7/dist-packages (from wradlib==1.14) (1.21.6)\n",
            "Requirement already satisfied: xarray>=0.17.0 in /usr/local/lib/python3.7/dist-packages (from wradlib==1.14) (0.20.2)\n",
            "Requirement already satisfied: h5netcdf in /usr/local/lib/python3.7/dist-packages (from wradlib==1.14) (1.0.0)\n",
            "Requirement already satisfied: h5py in /usr/local/lib/python3.7/dist-packages (from wradlib==1.14) (3.1.0)\n",
            "Requirement already satisfied: dask in /usr/local/lib/python3.7/dist-packages (from wradlib==1.14) (2.12.0)\n",
            "Requirement already satisfied: requests in /usr/local/lib/python3.7/dist-packages (from wradlib==1.14) (2.23.0)\n",
            "Collecting cartopy\n",
            "  Using cached Cartopy-0.20.2.tar.gz (10.8 MB)\n",
            "  Installing build dependencies ... \u001b[?25l\u001b[?25hdone\n",
            "  Getting requirements to build wheel ... \u001b[?25l\u001b[?25herror\n",
            "\u001b[33mWARNING: Discarding https://files.pythonhosted.org/packages/f6/55/1e1c737dc9436b320deead73d1c455ddbb74b8b6992081863492f6f6378a/Cartopy-0.20.2.tar.gz#sha256=4d08c198ecaa50a6a6b109d0f14c070e813defc046a83ac5d7ab494f85599e35 (from https://pypi.org/simple/cartopy/) (requires-python:>=3.7). Command errored out with exit status 1: /usr/bin/python3 /usr/local/lib/python3.7/dist-packages/pip/_vendor/pep517/in_process/_in_process.py get_requires_for_build_wheel /tmp/tmpxv87dpr8 Check the logs for full command output.\u001b[0m\n",
            "  Using cached Cartopy-0.20.1.tar.gz (10.8 MB)\n",
            "  Installing build dependencies ... \u001b[?25l\u001b[?25hdone\n",
            "  Getting requirements to build wheel ... \u001b[?25l\u001b[?25herror\n",
            "\u001b[33mWARNING: Discarding https://files.pythonhosted.org/packages/fc/59/aa52698e3838f4cd0e7eaa75bd86837e9e0b05041dbdaee3cda2fffced06/Cartopy-0.20.1.tar.gz#sha256=91f87b130e2574547a20cd634498df97d797abd12dcfd0235bc0cdbcec8b05e3 (from https://pypi.org/simple/cartopy/) (requires-python:>=3.7). Command errored out with exit status 1: /usr/bin/python3 /usr/local/lib/python3.7/dist-packages/pip/_vendor/pep517/in_process/_in_process.py get_requires_for_build_wheel /tmp/tmp0zhe7qgv Check the logs for full command output.\u001b[0m\n",
            "  Using cached Cartopy-0.20.0.tar.gz (10.8 MB)\n",
            "  Installing build dependencies ... \u001b[?25l\u001b[?25hdone\n",
            "  Getting requirements to build wheel ... \u001b[?25l\u001b[?25herror\n",
            "\u001b[33mWARNING: Discarding https://files.pythonhosted.org/packages/0f/c0/58453b036e79046d211f083880d58dcce787e7e07647ac25dc46c6555099/Cartopy-0.20.0.tar.gz#sha256=eae58aff26806e63cf115b2bce9477cedc4aa9f578c5e477b2c25cfa404f2b7a (from https://pypi.org/simple/cartopy/) (requires-python:>=3.7). Command errored out with exit status 1: /usr/bin/python3 /usr/local/lib/python3.7/dist-packages/pip/_vendor/pep517/in_process/_in_process.py get_requires_for_build_wheel /tmp/tmp6jr9vx9t Check the logs for full command output.\u001b[0m\n",
            "  Using cached Cartopy-0.19.0.post1-cp37-cp37m-linux_x86_64.whl\n",
            "Requirement already satisfied: xmltodict in /usr/local/lib/python3.7/dist-packages (from wradlib==1.14) (0.13.0)\n",
            "Requirement already satisfied: matplotlib in /usr/local/lib/python3.7/dist-packages (from wradlib==1.14) (3.2.2)\n",
            "Requirement already satisfied: netCDF4 in /usr/local/lib/python3.7/dist-packages (from wradlib==1.14) (1.5.8)\n",
            "Requirement already satisfied: geopandas in /usr/local/lib/python3.7/dist-packages (from wradlib==1.14) (0.10.2)\n",
            "Requirement already satisfied: gdal in /usr/local/lib/python3.7/dist-packages (from wradlib==1.14) (2.2.2)\n",
            "Requirement already satisfied: importlib-metadata in /usr/local/lib/python3.7/dist-packages (from xarray>=0.17.0->wradlib==1.14) (4.11.3)\n",
            "Requirement already satisfied: pandas>=1.1 in /usr/local/lib/python3.7/dist-packages (from xarray>=0.17.0->wradlib==1.14) (1.3.5)\n",
            "Requirement already satisfied: typing-extensions>=3.7 in /usr/local/lib/python3.7/dist-packages (from xarray>=0.17.0->wradlib==1.14) (4.2.0)\n",
            "Requirement already satisfied: python-dateutil>=2.7.3 in /usr/local/lib/python3.7/dist-packages (from pandas>=1.1->xarray>=0.17.0->wradlib==1.14) (2.8.2)\n",
            "Requirement already satisfied: pytz>=2017.3 in /usr/local/lib/python3.7/dist-packages (from pandas>=1.1->xarray>=0.17.0->wradlib==1.14) (2022.1)\n",
            "Requirement already satisfied: six>=1.5 in /usr/local/lib/python3.7/dist-packages (from python-dateutil>=2.7.3->pandas>=1.1->xarray>=0.17.0->wradlib==1.14) (1.15.0)\n",
            "Requirement already satisfied: pyshp>=2 in /usr/local/lib/python3.7/dist-packages (from cartopy->wradlib==1.14) (2.3.0)\n",
            "Requirement already satisfied: shapely>=1.5.6 in /usr/local/lib/python3.7/dist-packages (from cartopy->wradlib==1.14) (1.8.2)\n",
            "Requirement already satisfied: pyproj>=2.2.0 in /usr/local/lib/python3.7/dist-packages (from geopandas->wradlib==1.14) (3.2.1)\n",
            "Requirement already satisfied: fiona>=1.8 in /usr/local/lib/python3.7/dist-packages (from geopandas->wradlib==1.14) (1.8.21)\n",
            "Requirement already satisfied: munch in /usr/local/lib/python3.7/dist-packages (from fiona>=1.8->geopandas->wradlib==1.14) (2.5.0)\n",
            "Requirement already satisfied: click>=4.0 in /usr/local/lib/python3.7/dist-packages (from fiona>=1.8->geopandas->wradlib==1.14) (7.1.2)\n",
            "Requirement already satisfied: click-plugins>=1.0 in /usr/local/lib/python3.7/dist-packages (from fiona>=1.8->geopandas->wradlib==1.14) (1.1.1)\n",
            "Requirement already satisfied: cligj>=0.5 in /usr/local/lib/python3.7/dist-packages (from fiona>=1.8->geopandas->wradlib==1.14) (0.7.2)\n",
            "Requirement already satisfied: attrs>=17 in /usr/local/lib/python3.7/dist-packages (from fiona>=1.8->geopandas->wradlib==1.14) (21.4.0)\n",
            "Requirement already satisfied: setuptools in /usr/local/lib/python3.7/dist-packages (from fiona>=1.8->geopandas->wradlib==1.14) (57.4.0)\n",
            "Requirement already satisfied: certifi in /usr/local/lib/python3.7/dist-packages (from fiona>=1.8->geopandas->wradlib==1.14) (2021.10.8)\n",
            "Requirement already satisfied: cached-property in /usr/local/lib/python3.7/dist-packages (from h5py->wradlib==1.14) (1.5.2)\n",
            "Requirement already satisfied: zipp>=0.5 in /usr/local/lib/python3.7/dist-packages (from importlib-metadata->xarray>=0.17.0->wradlib==1.14) (3.8.0)\n",
            "Requirement already satisfied: pyparsing!=2.0.4,!=2.1.2,!=2.1.6,>=2.0.1 in /usr/local/lib/python3.7/dist-packages (from matplotlib->wradlib==1.14) (3.0.9)\n",
            "Requirement already satisfied: kiwisolver>=1.0.1 in /usr/local/lib/python3.7/dist-packages (from matplotlib->wradlib==1.14) (1.4.2)\n",
            "Requirement already satisfied: cycler>=0.10 in /usr/local/lib/python3.7/dist-packages (from matplotlib->wradlib==1.14) (0.11.0)\n",
            "Requirement already satisfied: cftime in /usr/local/lib/python3.7/dist-packages (from netCDF4->wradlib==1.14) (1.6.0)\n",
            "Requirement already satisfied: chardet<4,>=3.0.2 in /usr/local/lib/python3.7/dist-packages (from requests->wradlib==1.14) (3.0.4)\n",
            "Requirement already satisfied: idna<3,>=2.5 in /usr/local/lib/python3.7/dist-packages (from requests->wradlib==1.14) (2.10)\n",
            "Requirement already satisfied: urllib3!=1.25.0,!=1.25.1,<1.26,>=1.21.1 in /usr/local/lib/python3.7/dist-packages (from requests->wradlib==1.14) (1.24.3)\n",
            "Building wheels for collected packages: wradlib\n",
            "  Building wheel for wradlib (PEP 517) ... \u001b[?25l\u001b[?25hdone\n",
            "  Created wheel for wradlib: filename=wradlib-1.14.0-py3-none-any.whl size=295806 sha256=af516801161970d82b2afe8f8c9f64e458af7c1264415539c30cdba1a693b5f5\n",
            "  Stored in directory: /root/.cache/pip/wheels/c5/2b/12/be57706387d1587955b10c499d325c9e8f44d6675f1b2de1d0\n",
            "Successfully built wradlib\n",
            "Installing collected packages: deprecation, cartopy, wradlib\n",
            "Successfully installed cartopy-0.19.0.post1 deprecation-2.1.0 wradlib-1.14.0\n"
          ]
        }
      ]
    },
    {
      "cell_type": "code",
      "source": [
        "%cd /content/rainymotion\n",
        "!python setup.py install"
      ],
      "metadata": {
        "colab": {
          "base_uri": "https://localhost:8080/"
        },
        "id": "cNq-3oOsIeBr",
        "outputId": "199cfb6b-3f65-4c72-e1dc-f4030a799534"
      },
      "execution_count": 5,
      "outputs": [
        {
          "output_type": "stream",
          "name": "stdout",
          "text": [
            "/content/rainymotion\n",
            "running install\n",
            "running bdist_egg\n",
            "running egg_info\n",
            "creating rainymotion.egg-info\n",
            "writing rainymotion.egg-info/PKG-INFO\n",
            "writing dependency_links to rainymotion.egg-info/dependency_links.txt\n",
            "writing top-level names to rainymotion.egg-info/top_level.txt\n",
            "writing manifest file 'rainymotion.egg-info/SOURCES.txt'\n",
            "adding license file 'LICENSE'\n",
            "writing manifest file 'rainymotion.egg-info/SOURCES.txt'\n",
            "installing library code to build/bdist.linux-x86_64/egg\n",
            "running install_lib\n",
            "running build_py\n",
            "creating build\n",
            "creating build/lib\n",
            "creating build/lib/rainymotion\n",
            "copying rainymotion/__init__.py -> build/lib/rainymotion\n",
            "copying rainymotion/models.py -> build/lib/rainymotion\n",
            "copying rainymotion/utils.py -> build/lib/rainymotion\n",
            "copying rainymotion/metrics.py -> build/lib/rainymotion\n",
            "creating build/bdist.linux-x86_64\n",
            "creating build/bdist.linux-x86_64/egg\n",
            "creating build/bdist.linux-x86_64/egg/rainymotion\n",
            "copying build/lib/rainymotion/__init__.py -> build/bdist.linux-x86_64/egg/rainymotion\n",
            "copying build/lib/rainymotion/models.py -> build/bdist.linux-x86_64/egg/rainymotion\n",
            "copying build/lib/rainymotion/utils.py -> build/bdist.linux-x86_64/egg/rainymotion\n",
            "copying build/lib/rainymotion/metrics.py -> build/bdist.linux-x86_64/egg/rainymotion\n",
            "byte-compiling build/bdist.linux-x86_64/egg/rainymotion/__init__.py to __init__.cpython-37.pyc\n",
            "byte-compiling build/bdist.linux-x86_64/egg/rainymotion/models.py to models.cpython-37.pyc\n",
            "byte-compiling build/bdist.linux-x86_64/egg/rainymotion/utils.py to utils.cpython-37.pyc\n",
            "byte-compiling build/bdist.linux-x86_64/egg/rainymotion/metrics.py to metrics.cpython-37.pyc\n",
            "creating build/bdist.linux-x86_64/egg/EGG-INFO\n",
            "copying rainymotion.egg-info/PKG-INFO -> build/bdist.linux-x86_64/egg/EGG-INFO\n",
            "copying rainymotion.egg-info/SOURCES.txt -> build/bdist.linux-x86_64/egg/EGG-INFO\n",
            "copying rainymotion.egg-info/dependency_links.txt -> build/bdist.linux-x86_64/egg/EGG-INFO\n",
            "copying rainymotion.egg-info/top_level.txt -> build/bdist.linux-x86_64/egg/EGG-INFO\n",
            "zip_safe flag not set; analyzing archive contents...\n",
            "creating dist\n",
            "creating 'dist/rainymotion-0.1-py3.7.egg' and adding 'build/bdist.linux-x86_64/egg' to it\n",
            "removing 'build/bdist.linux-x86_64/egg' (and everything under it)\n",
            "Processing rainymotion-0.1-py3.7.egg\n",
            "Copying rainymotion-0.1-py3.7.egg to /usr/local/lib/python3.7/dist-packages\n",
            "Adding rainymotion 0.1 to easy-install.pth file\n",
            "\n",
            "Installed /usr/local/lib/python3.7/dist-packages/rainymotion-0.1-py3.7.egg\n",
            "Processing dependencies for rainymotion==0.1\n",
            "Finished processing dependencies for rainymotion==0.1\n"
          ]
        }
      ]
    },
    {
      "cell_type": "code",
      "source": [
        "!pip uninstall opencv-python"
      ],
      "metadata": {
        "colab": {
          "base_uri": "https://localhost:8080/"
        },
        "id": "QqWYHbPyIfs3",
        "outputId": "9e40ab50-47e3-4ea5-ab58-8de551d81eb4"
      },
      "execution_count": 9,
      "outputs": [
        {
          "output_type": "stream",
          "name": "stdout",
          "text": [
            "Found existing installation: opencv-python 4.1.2.30\n",
            "Uninstalling opencv-python-4.1.2.30:\n",
            "  Would remove:\n",
            "    /usr/local/lib/python3.7/dist-packages/cv2/*\n",
            "    /usr/local/lib/python3.7/dist-packages/opencv_python-4.1.2.30.dist-info/*\n",
            "Proceed (y/n)? y\n",
            "  Successfully uninstalled opencv-python-4.1.2.30\n"
          ]
        }
      ]
    },
    {
      "cell_type": "code",
      "source": [
        "!pip install opencv-python==3.4.*"
      ],
      "metadata": {
        "colab": {
          "base_uri": "https://localhost:8080/",
          "height": 242
        },
        "id": "lLBQK6a7Ip3q",
        "outputId": "b893f26a-ace7-4b5e-8a90-dd2d69f8be95"
      },
      "execution_count": 10,
      "outputs": [
        {
          "output_type": "stream",
          "name": "stdout",
          "text": [
            "Collecting opencv-python==3.4.*\n",
            "  Downloading opencv_python-3.4.17.63-cp36-abi3-manylinux_2_17_x86_64.manylinux2014_x86_64.whl (58.2 MB)\n",
            "\u001b[K     |████████████████████████████████| 58.2 MB 9.9 MB/s \n",
            "\u001b[?25hRequirement already satisfied: numpy>=1.14.5 in /usr/local/lib/python3.7/dist-packages (from opencv-python==3.4.*) (1.21.6)\n",
            "Installing collected packages: opencv-python\n",
            "\u001b[31mERROR: pip's dependency resolver does not currently take into account all the packages that are installed. This behaviour is the source of the following dependency conflicts.\n",
            "albumentations 0.1.12 requires imgaug<0.2.7,>=0.2.5, but you have imgaug 0.2.9 which is incompatible.\u001b[0m\n",
            "Successfully installed opencv-python-3.4.17.63\n"
          ]
        },
        {
          "output_type": "display_data",
          "data": {
            "application/vnd.colab-display-data+json": {
              "pip_warning": {
                "packages": [
                  "cv2"
                ]
              }
            }
          },
          "metadata": {}
        }
      ]
    },
    {
      "cell_type": "code",
      "source": [
        "!pip uninstall opencv-contrib-python"
      ],
      "metadata": {
        "colab": {
          "base_uri": "https://localhost:8080/"
        },
        "id": "9Oc9dGJFIq21",
        "outputId": "92b8ff1d-c355-4c88-ffb6-4335b48ff3d2"
      },
      "execution_count": 11,
      "outputs": [
        {
          "output_type": "stream",
          "name": "stdout",
          "text": [
            "Found existing installation: opencv-contrib-python 4.1.2.30\n",
            "Uninstalling opencv-contrib-python-4.1.2.30:\n",
            "  Would remove:\n",
            "    /usr/local/lib/python3.7/dist-packages/cv2/*\n",
            "    /usr/local/lib/python3.7/dist-packages/opencv_contrib_python-4.1.2.30.dist-info/*\n",
            "  Would not remove (might be manually added):\n",
            "    /usr/local/lib/python3.7/dist-packages/cv2/config-3.py\n",
            "    /usr/local/lib/python3.7/dist-packages/cv2/config.py\n",
            "    /usr/local/lib/python3.7/dist-packages/cv2/cv2.abi3.so\n",
            "    /usr/local/lib/python3.7/dist-packages/cv2/load_config_py2.py\n",
            "    /usr/local/lib/python3.7/dist-packages/cv2/load_config_py3.py\n",
            "    /usr/local/lib/python3.7/dist-packages/cv2/qt/fonts/DejaVuSans-Bold.ttf\n",
            "    /usr/local/lib/python3.7/dist-packages/cv2/qt/fonts/DejaVuSans-BoldOblique.ttf\n",
            "    /usr/local/lib/python3.7/dist-packages/cv2/qt/fonts/DejaVuSans-ExtraLight.ttf\n",
            "    /usr/local/lib/python3.7/dist-packages/cv2/qt/fonts/DejaVuSans-Oblique.ttf\n",
            "    /usr/local/lib/python3.7/dist-packages/cv2/qt/fonts/DejaVuSans.ttf\n",
            "    /usr/local/lib/python3.7/dist-packages/cv2/qt/fonts/DejaVuSansCondensed-Bold.ttf\n",
            "    /usr/local/lib/python3.7/dist-packages/cv2/qt/fonts/DejaVuSansCondensed-BoldOblique.ttf\n",
            "    /usr/local/lib/python3.7/dist-packages/cv2/qt/fonts/DejaVuSansCondensed-Oblique.ttf\n",
            "    /usr/local/lib/python3.7/dist-packages/cv2/qt/fonts/DejaVuSansCondensed.ttf\n",
            "    /usr/local/lib/python3.7/dist-packages/cv2/qt/plugins/platforms/libqxcb.so\n",
            "    /usr/local/lib/python3.7/dist-packages/cv2/version.py\n",
            "Proceed (y/n)? y\n",
            "  Successfully uninstalled opencv-contrib-python-4.1.2.30\n"
          ]
        }
      ]
    },
    {
      "cell_type": "code",
      "source": [
        "!pip install opencv-contrib-python==3.4.*"
      ],
      "metadata": {
        "colab": {
          "base_uri": "https://localhost:8080/",
          "height": 207
        },
        "id": "WpZXYww0Ir6i",
        "outputId": "ea278520-b825-4aab-8111-418a7c12521d"
      },
      "execution_count": 12,
      "outputs": [
        {
          "output_type": "stream",
          "name": "stdout",
          "text": [
            "Collecting opencv-contrib-python==3.4.*\n",
            "  Downloading opencv_contrib_python-3.4.17.63-cp36-abi3-manylinux_2_17_x86_64.manylinux2014_x86_64.whl (63.4 MB)\n",
            "\u001b[K     |████████████████████████████████| 63.4 MB 72 kB/s \n",
            "\u001b[?25hRequirement already satisfied: numpy>=1.14.5 in /usr/local/lib/python3.7/dist-packages (from opencv-contrib-python==3.4.*) (1.21.6)\n",
            "Installing collected packages: opencv-contrib-python\n",
            "Successfully installed opencv-contrib-python-3.4.17.63\n"
          ]
        },
        {
          "output_type": "display_data",
          "data": {
            "application/vnd.colab-display-data+json": {
              "pip_warning": {
                "packages": [
                  "cv2"
                ]
              }
            }
          },
          "metadata": {}
        }
      ]
    },
    {
      "cell_type": "markdown",
      "source": [
        "# Optical flow"
      ],
      "metadata": {
        "id": "3uxMnrvVHpZ3"
      }
    },
    {
      "cell_type": "code",
      "source": [
        "import torch\n",
        "import torch.nn as nn\n",
        "import torch.nn.functional as F\n",
        "import torchvision.transforms as transforms\n",
        "from torch.utils.data import Dataset, DataLoader\n",
        "from torchvision.datasets import ImageFolder\n",
        "from PIL import Image\n",
        "import os\n",
        "import cv2\n",
        "import matplotlib.pyplot as plt\n",
        "import numpy as np\n",
        "import rainymotion"
      ],
      "metadata": {
        "id": "U3lYNTfzIu-v"
      },
      "execution_count": 1,
      "outputs": []
    },
    {
      "cell_type": "code",
      "source": [
        "!pwd"
      ],
      "metadata": {
        "colab": {
          "base_uri": "https://localhost:8080/"
        },
        "id": "SbQkYGk2U92F",
        "outputId": "6b0fbdbe-2118-4dc0-ef42-ddc9fc82a582"
      },
      "execution_count": 2,
      "outputs": [
        {
          "output_type": "stream",
          "name": "stdout",
          "text": [
            "/content\n"
          ]
        }
      ]
    },
    {
      "cell_type": "code",
      "source": [
        "cv2.__version__"
      ],
      "metadata": {
        "colab": {
          "base_uri": "https://localhost:8080/",
          "height": 35
        },
        "id": "VRNDJ6LFRVrK",
        "outputId": "a1cfbfb0-19d8-49bd-894e-0ee5d5cb9217"
      },
      "execution_count": 3,
      "outputs": [
        {
          "output_type": "execute_result",
          "data": {
            "text/plain": [
              "'3.4.17'"
            ],
            "application/vnd.google.colaboratory.intrinsic+json": {
              "type": "string"
            }
          },
          "metadata": {},
          "execution_count": 3
        }
      ]
    },
    {
      "cell_type": "code",
      "source": [
        "rainymotion.models"
      ],
      "metadata": {
        "colab": {
          "base_uri": "https://localhost:8080/"
        },
        "id": "qcgPdR9UotbD",
        "outputId": "8140013f-89ef-48b4-f858-fac3f6c38a43"
      },
      "execution_count": 5,
      "outputs": [
        {
          "output_type": "execute_result",
          "data": {
            "text/plain": [
              "<module 'rainymotion.models' from '/usr/local/lib/python3.7/dist-packages/rainymotion-0.1-py3.7.egg/rainymotion/models.py'>"
            ]
          },
          "metadata": {},
          "execution_count": 5
        }
      ]
    },
    {
      "cell_type": "code",
      "source": [
        "def changeToClosetValue(v):\n",
        "    dif = 1000\n",
        "    new_value = v\n",
        "    for k in rgb2value:\n",
        "        tmp = [int(e) for e in k.split(',')]\n",
        "        # print(tmp, v)\n",
        "        # calculate dif\n",
        "        d = abs(tmp[0]-v[0]) + abs(tmp[1]-v[1]) + abs(tmp[2]-v[2])\n",
        "        if d < dif:\n",
        "            new_value = tmp\n",
        "            dif = d\n",
        "    return new_value"
      ],
      "metadata": {
        "id": "BwpnDUONJIxp"
      },
      "execution_count": 6,
      "outputs": []
    },
    {
      "cell_type": "code",
      "source": [
        "rgb2value = {\n",
        "    '0,0,0'      : 0.0,\n",
        "    '0,255,128'  : 5.0,\n",
        "    '0,255,0'    : 10.0,\n",
        "    '0,175,0'    : 15.0,\n",
        "    '0,150,50'   : 20.0,\n",
        "    '255,255,0'  : 25.0,\n",
        "    '255,200,0'  : 30.0,\n",
        "    '255,170,0'  : 35.0,\n",
        "    '255,85,0'   : 40.0,\n",
        "    '255,0,0'    : 45.0,\n",
        "    '255,0,100'  : 50.0,\n",
        "    '255,0,255'  : 55.0,\n",
        "    '255,128,255': 60.0,\n",
        "    '255,200,255': 65.0,\n",
        "    '255,225,255': 70.0,\n",
        "    '255,255,255': 75.0,\n",
        "}"
      ],
      "metadata": {
        "id": "mtAB8ckuKVCk"
      },
      "execution_count": 7,
      "outputs": []
    },
    {
      "cell_type": "code",
      "source": [
        "def intensity2rgb(intensity):\n",
        "  value = {\n",
        "      0: [0,0,0],\n",
        "      5: [0,255,128],\n",
        "      10: [0,255,0],\n",
        "      15: [0,175,0],\n",
        "      20: [0,150,50],\n",
        "      25: [255,255,0],\n",
        "      30: [255,200,0],\n",
        "      35: [255,170,0],\n",
        "      40: [255,85,0],\n",
        "      45: [255,0,0],\n",
        "      50: [255,0,100],\n",
        "      55: [255,0,255],\n",
        "      60: [255,128,255],\n",
        "      65: [255,200,255],\n",
        "      70: [255,225,255],\n",
        "      75: [255,255,255]\n",
        "  }\n",
        "  return value[intensity]"
      ],
      "metadata": {
        "id": "A_lsrXX0KWYi"
      },
      "execution_count": 8,
      "outputs": []
    },
    {
      "cell_type": "code",
      "source": [
        "def rgb2intensity(pixel):\n",
        "  pixel = tuple(pixel)\n",
        "  if pixel == (0,0,0):\n",
        "    return 0.0\n",
        "  elif pixel == (0,255,128):\n",
        "    return 5.0\n",
        "  elif pixel == (0,255,0):\n",
        "    return 10.0\n",
        "  elif pixel == (0,175,0):\n",
        "    return 15.0\n",
        "  elif pixel == (0,150,50):\n",
        "    return 20.0\n",
        "  elif pixel == (255,255,0):\n",
        "    return 25.0\n",
        "  elif pixel == (255,200,0):\n",
        "    return 30.0\n",
        "  elif pixel == (255,170,0):\n",
        "    return 35.0\n",
        "  elif pixel == (255,85,0):\n",
        "    return 40.0\n",
        "  elif pixel == (255,0,0):\n",
        "    return 45.0\n",
        "  elif pixel == (255,0,100):\n",
        "    return 50.0\n",
        "  elif pixel == (255,0,255):\n",
        "    return 55.0\n",
        "  elif pixel == (255,128,255):\n",
        "    return 60.0\n",
        "  elif pixel == (255,200,255):\n",
        "    return 65.0\n",
        "  elif pixel == (255,225,255):\n",
        "    return 70.0\n",
        "  else:\n",
        "    return 75.0"
      ],
      "metadata": {
        "id": "0KTKIVBlKaSA"
      },
      "execution_count": 9,
      "outputs": []
    },
    {
      "cell_type": "code",
      "source": [
        "#preprocess and post optical flow \n",
        "def pre_processing_optical_flow(pil_img):\n",
        "  width, height = pil_img.size\n",
        "  \n",
        "  for i in range(width):\n",
        "    for j in range(height):\n",
        "      # print(i,j)\n",
        "      pixel_value = pil_img.getpixel((i,j))\n",
        "      if pixel_value == (165, 151, 95):\n",
        "        pil_img.putpixel( (i, j), (0,0,0) )\n",
        "      else:\n",
        "        pil_img.putpixel( (i, j), tuple(changeToClosetValue(pixel_value)) )\n",
        "  input_map = np.array(pil_img)\n",
        "  intensity_img = np.zeros((input_map.shape[0],input_map.shape[1])).astype('float32')\n",
        "  \n",
        "  #rgb2intersity\n",
        "  for i in range(input_map.shape[0]):\n",
        "    for j in range(input_map.shape[1]):\n",
        "      intensity_img[i,j] = rgb2intensity(input_map[i,j])\n",
        "  intensity_img /= 75\n",
        "\n",
        "  return intensity_img"
      ],
      "metadata": {
        "id": "daYKF-pOIy6j"
      },
      "execution_count": 10,
      "outputs": []
    },
    {
      "cell_type": "code",
      "source": [
        "def post_processing_optical_flow(pred_img):\n",
        "  tmp_img = pred_img * 15 // 1 * 5\n",
        "  rgb_img = np.zeros((tmp_img.shape[0],tmp_img.shape[1],3)).astype('uint8')\n",
        "\n",
        "  for i in range(rgb_img.shape[0]):\n",
        "    for j in range(rgb_img.shape[1]):\n",
        "      rgb_img[i,j] = intensity2rgb(tmp_img[i,j])\n",
        "  \n",
        "  plt.title('rgb image')\n",
        "  plt.imshow(rgb_img)\n",
        "\n",
        "  return rgb_img"
      ],
      "metadata": {
        "id": "UfhwAvBcJn7d"
      },
      "execution_count": 11,
      "outputs": []
    },
    {
      "cell_type": "code",
      "source": [
        "def create_alpha_image(rgb_img,filename):\n",
        "  alpha_img = np.zeros((rgb_img.shape[0],rgb_img.shape[1],4), dtype=np.uint8)\n",
        "  for x in range(rgb_img.shape[0]):\n",
        "    for y in range(rgb_img.shape[1]):\n",
        "      rgb = tuple(rgb_img[x,y])\n",
        "      if rgb == (0,0,0):\n",
        "        alpha_img[x, y] = (0,0,0,0)\n",
        "      else:\n",
        "        alpha_img[x, y] = np.concatenate((rgb_img[x,y] , np.array([255])))\n",
        "\n",
        "  img = Image.fromarray(alpha_img)\n",
        "  img.save(f'{filename}.png')\n",
        "  return img"
      ],
      "metadata": {
        "id": "6dbEJDxgLB5Z"
      },
      "execution_count": 36,
      "outputs": []
    },
    {
      "cell_type": "code",
      "source": [
        "model = rainymotion.models.Dense()\n",
        "\n",
        "# load the data using your custom DataLoader function\n",
        "model.input_data = test_inputs\n",
        "\n",
        "# run the model\n",
        "nowcasts = model.run()"
      ],
      "metadata": {
        "colab": {
          "base_uri": "https://localhost:8080/",
          "height": 235
        },
        "id": "vVnyAl1mI_hL",
        "outputId": "b95e2a93-d122-4dbf-ed72-d147b9e64f5d"
      },
      "execution_count": 13,
      "outputs": [
        {
          "output_type": "error",
          "ename": "NameError",
          "evalue": "ignored",
          "traceback": [
            "\u001b[0;31m---------------------------------------------------------------------------\u001b[0m",
            "\u001b[0;31mNameError\u001b[0m                                 Traceback (most recent call last)",
            "\u001b[0;32m<ipython-input-13-3ac07f70562d>\u001b[0m in \u001b[0;36m<module>\u001b[0;34m()\u001b[0m\n\u001b[1;32m      2\u001b[0m \u001b[0;34m\u001b[0m\u001b[0m\n\u001b[1;32m      3\u001b[0m \u001b[0;31m# load the data using your custom DataLoader function\u001b[0m\u001b[0;34m\u001b[0m\u001b[0;34m\u001b[0m\u001b[0;34m\u001b[0m\u001b[0m\n\u001b[0;32m----> 4\u001b[0;31m \u001b[0mmodel\u001b[0m\u001b[0;34m.\u001b[0m\u001b[0minput_data\u001b[0m \u001b[0;34m=\u001b[0m \u001b[0mtest_inputs\u001b[0m\u001b[0;34m\u001b[0m\u001b[0;34m\u001b[0m\u001b[0m\n\u001b[0m\u001b[1;32m      5\u001b[0m \u001b[0;34m\u001b[0m\u001b[0m\n\u001b[1;32m      6\u001b[0m \u001b[0;31m# run the model\u001b[0m\u001b[0;34m\u001b[0m\u001b[0;34m\u001b[0m\u001b[0;34m\u001b[0m\u001b[0m\n",
            "\u001b[0;31mNameError\u001b[0m: name 'test_inputs' is not defined"
          ]
        }
      ]
    },
    {
      "cell_type": "code",
      "source": [
        "def predict_optical_flow(filenames):\n",
        "\n",
        "  img1 = Image.open(f'/content/colab_directory/train_radarNJ/bkk_radar_images_all/{filenames[0]}.png').convert('RGB')\n",
        "  img2 = Image.open(f'/content/colab_directory/train_radarNJ/bkk_radar_images_all/{filenames[1]}.png').convert('RGB')\n",
        "  img3 = Image.open(f'/content/colab_directory/train_radarNJ/bkk_radar_images_all/{filenames[2]}.png').convert('RGB')\n",
        "  img4 = Image.open(f'/content/colab_directory/train_radarNJ/bkk_radar_images_all/{filenames[3]}.png').convert('RGB')\n",
        "\n",
        "  tmp_x = []\n",
        "\n",
        "  tmp_x.append(pre_processing_optical_flow(img1))\n",
        "  tmp_x.append(pre_processing_optical_flow(img2))\n",
        "  tmp_x.append(pre_processing_optical_flow(img3))\n",
        "  tmp_x.append(pre_processing_optical_flow(img4))\n",
        "\n",
        "  X = np.array(tmp_x)\n",
        "\n",
        "  model = rainymotion.models.Dense()\n",
        "\n",
        "  # load the data using your custom DataLoader function\n",
        "  model.input_data = X\n",
        "\n",
        "  nowcasts = model.run()\n",
        "\n",
        "  return nowcasts\n"
      ],
      "metadata": {
        "id": "vKtKBqa9SXsy"
      },
      "execution_count": 25,
      "outputs": []
    },
    {
      "cell_type": "code",
      "source": [
        "filenames = [1620125544,1620125840,1620126142,1620126438]"
      ],
      "metadata": {
        "id": "Gy-wFclVKft3"
      },
      "execution_count": 26,
      "outputs": []
    },
    {
      "cell_type": "code",
      "source": [
        "nowcasts = predict_optical_flow(filenames)"
      ],
      "metadata": {
        "id": "xc4YeHi5SVwL"
      },
      "execution_count": 27,
      "outputs": []
    },
    {
      "cell_type": "code",
      "source": [
        "nowcasts[0].shape"
      ],
      "metadata": {
        "colab": {
          "base_uri": "https://localhost:8080/"
        },
        "id": "L201_LbzqtpV",
        "outputId": "c31b8c64-e00c-4449-c768-ccc10683db12"
      },
      "execution_count": 30,
      "outputs": [
        {
          "output_type": "execute_result",
          "data": {
            "text/plain": [
              "(2034, 2048)"
            ]
          },
          "metadata": {},
          "execution_count": 30
        }
      ]
    },
    {
      "cell_type": "code",
      "source": [
        "plt.imshow(nowcasts[0])"
      ],
      "metadata": {
        "colab": {
          "base_uri": "https://localhost:8080/",
          "height": 286
        },
        "id": "YqiSVcZ9qycX",
        "outputId": "ab112c2f-333c-4758-c5ab-ba2489e41a01"
      },
      "execution_count": 31,
      "outputs": [
        {
          "output_type": "execute_result",
          "data": {
            "text/plain": [
              "<matplotlib.image.AxesImage at 0x7ff485c42f90>"
            ]
          },
          "metadata": {},
          "execution_count": 31
        },
        {
          "output_type": "display_data",
          "data": {
            "text/plain": [
              "<Figure size 432x288 with 1 Axes>"
            ],
            "image/png": "[encoded data removed]"
          },
          "metadata": {
            "needs_background": "light"
          }
        }
      ]
    },
    {
      "cell_type": "code",
      "source": [
        "test = post_processing_optical_flow(nowcasts[0])"
      ],
      "metadata": {
        "colab": {
          "base_uri": "https://localhost:8080/",
          "height": 281
        },
        "id": "V6OgAvfYrxQg",
        "outputId": "190987d5-b0e9-4284-c135-8e42e466b4a8"
      },
      "execution_count": 33,
      "outputs": [
        {
          "output_type": "display_data",
          "data": {
            "text/plain": [
              "<Figure size 432x288 with 1 Axes>"
            ],
            "image/png": "[encoded data removed]"
          },
          "metadata": {
            "needs_background": "light"
          }
        }
      ]
    },
    {
      "cell_type": "code",
      "source": [
        "test.shape"
      ],
      "metadata": {
        "colab": {
          "base_uri": "https://localhost:8080/"
        },
        "id": "heq5Adm0r_nF",
        "outputId": "2344a9f8-e6ea-4a17-92e0-af3bbb3fcdce"
      },
      "execution_count": 34,
      "outputs": [
        {
          "output_type": "execute_result",
          "data": {
            "text/plain": [
              "(2034, 2048, 3)"
            ]
          },
          "metadata": {},
          "execution_count": 34
        }
      ]
    },
    {
      "cell_type": "code",
      "source": [
        "for i in range(len(nowcasts)):\n",
        "  create_alpha_image(post_processing_optical_flow(nowcasts[i]),f'test_1620126438_optical_flow +{5*(i+1)} mins')"
      ],
      "metadata": {
        "colab": {
          "base_uri": "https://localhost:8080/",
          "height": 281
        },
        "id": "l8oKcoXqplrC",
        "outputId": "6efde6d4-cc6f-4521-be9d-42ce506a599f"
      },
      "execution_count": 37,
      "outputs": [
        {
          "output_type": "display_data",
          "data": {
            "text/plain": [
              "<Figure size 432x288 with 1 Axes>"
            ],
            "image/png": "[encoded data removed]"
          },
          "metadata": {
            "needs_background": "light"
          }
        }
      ]
    },
    {
      "cell_type": "code",
      "source": [
        "plt.imshow(nowcasts[0])"
      ],
      "metadata": {
        "id": "VIz8q2D2Tn4n"
      },
      "execution_count": null,
      "outputs": []
    },
    {
      "cell_type": "code",
      "source": [
        "filenames2 = [1592461954,1592462136,1592462768,1592463068]\n",
        "nowcasts2 = predict_optical_flow(filenames2)"
      ],
      "metadata": {
        "id": "WX9NUgDCTLD9"
      },
      "execution_count": null,
      "outputs": []
    }
  ]
}