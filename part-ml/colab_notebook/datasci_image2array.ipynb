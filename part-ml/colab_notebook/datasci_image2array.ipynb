{
  "nbformat": 4,
  "nbformat_minor": 0,
  "metadata": {
    "colab": {
      "name": "datasci-image2array.ipynb",
      "provenance": []
    },
    "kernelspec": {
      "name": "python3",
      "display_name": "Python 3"
    },
    "language_info": {
      "name": "python"
    }
  },
  "cells": [
    {
      "cell_type": "markdown",
      "source": [
        "# Install dependencies"
      ],
      "metadata": {
        "id": "-eXefMFSMLAX"
      }
    },
    {
      "cell_type": "code",
      "execution_count": null,
      "metadata": {
        "id": "KlGP_sE7HWe0"
      },
      "outputs": [],
      "source": [
        "from google.colab import auth\n",
        "auth.authenticate_user()"
      ]
    },
    {
      "cell_type": "code",
      "source": [
        "project_id = 'datasci-kalampree'\n",
        "!gcloud config set project {project_id}"
      ],
      "metadata": {
        "colab": {
          "base_uri": "https://localhost:8080/"
        },
        "id": "h0Ji17rzHeje",
        "outputId": "16ecc837-0ef0-4e7d-9ca6-1be885de7772"
      },
      "execution_count": null,
      "outputs": [
        {
          "output_type": "stream",
          "name": "stdout",
          "text": [
            "Updated property [core/project].\n"
          ]
        }
      ]
    },
    {
      "cell_type": "code",
      "source": [
        "!echo \"deb http://packages.cloud.google.com/apt gcsfuse-bionic main\" > /etc/apt/sources.list.d/gcsfuse.list\n",
        "\n",
        "!curl https://packages.cloud.google.com/apt/doc/apt-key.gpg | apt-key add -\n",
        "\n",
        "!apt -qq update\n",
        "\n",
        "!apt -qq install gcsfuse"
      ],
      "metadata": {
        "id": "ogUHfc-dJrYP",
        "colab": {
          "base_uri": "https://localhost:8080/"
        },
        "outputId": "ed000cbc-6445-456f-ef56-33e0367f918e"
      },
      "execution_count": null,
      "outputs": [
        {
          "output_type": "stream",
          "name": "stdout",
          "text": [
            "  % Total    % Received % Xferd  Average Speed   Time    Time     Time  Current\n",
            "                                 Dload  Upload   Total   Spent    Left  Speed\n",
            "\r  0     0    0     0    0     0      0      0 --:--:-- --:--:-- --:--:--     0\r100  2537  100  2537    0     0   103k      0 --:--:-- --:--:-- --:--:--  103k\n",
            "OK\n",
            "47 packages can be upgraded. Run 'apt list --upgradable' to see them.\n",
            "gcsfuse is already the newest version (0.41.1).\n",
            "The following package was automatically installed and is no longer required:\n",
            "  libnvidia-common-460\n",
            "Use 'apt autoremove' to remove it.\n",
            "0 upgraded, 0 newly installed, 0 to remove and 47 not upgraded.\n"
          ]
        }
      ]
    },
    {
      "cell_type": "code",
      "source": [
        "!mkdir colab_directory\n",
        "\n",
        "!gcsfuse --implicit-dirs datasci-kalampree colab_directory"
      ],
      "metadata": {
        "colab": {
          "base_uri": "https://localhost:8080/"
        },
        "id": "StyoXFcgO491",
        "outputId": "ae75c307-b65d-45dc-ddbf-923c756fd815"
      },
      "execution_count": null,
      "outputs": [
        {
          "output_type": "stream",
          "name": "stdout",
          "text": [
            "mkdir: cannot create directory ‘colab_directory’: File exists\n",
            "2022/05/19 21:52:44.294123 Start gcsfuse/0.41.1 (Go version go1.17.6) for app \"\" using mount point: /content/colab_directory\n",
            "2022/05/19 21:52:44.325149 Opening GCS connection...\n",
            "2022/05/19 21:52:44.962827 Mounting file system \"datasci-kalampree\"...\n",
            "2022/05/19 21:52:44.964289 File system has been successfully mounted.\n"
          ]
        }
      ]
    },
    {
      "cell_type": "code",
      "source": [
        "!ls colab_directory"
      ],
      "metadata": {
        "colab": {
          "base_uri": "https://localhost:8080/"
        },
        "id": "H0neSbVaO6wg",
        "outputId": "ec378cce-7c9b-4253-fa66-214c6191d9fc"
      },
      "execution_count": null,
      "outputs": [
        {
          "output_type": "stream",
          "name": "stdout",
          "text": [
            "mock  radarNJ  radarNK\ttemp  train_radarNJ\n"
          ]
        }
      ]
    },
    {
      "cell_type": "markdown",
      "source": [
        "# Import lib"
      ],
      "metadata": {
        "id": "T3a-Vxl-MPtj"
      }
    },
    {
      "cell_type": "code",
      "source": [
        "import torch\n",
        "import torch.nn as nn\n",
        "import torch.nn.functional as F\n",
        "import torchvision.transforms as transforms\n",
        "from torch.utils.data import Dataset, DataLoader\n",
        "from torchvision.datasets import ImageFolder\n",
        "from PIL import Image\n",
        "import cv2\n",
        "import os\n",
        "import numpy as np\n",
        "import matplotlib.pyplot as plt"
      ],
      "metadata": {
        "id": "x_JeYObbO7_K"
      },
      "execution_count": null,
      "outputs": []
    },
    {
      "cell_type": "markdown",
      "source": [
        "# Testing on Save filename to .txt"
      ],
      "metadata": {
        "id": "Wk52vXiVMRgv"
      }
    },
    {
      "cell_type": "code",
      "source": [
        "image_names = sorted(os.listdir('/content/colab_directory/train_radarNJ/bkk_radar_images_all'))\n",
        "image_names = [str(e) for e in image_names]"
      ],
      "metadata": {
        "id": "wRj0CLzTPV0-"
      },
      "execution_count": null,
      "outputs": []
    },
    {
      "cell_type": "code",
      "source": [
        "image_names = np.array(image_names)"
      ],
      "metadata": {
        "id": "quiDXV54QAix"
      },
      "execution_count": null,
      "outputs": []
    },
    {
      "cell_type": "code",
      "source": [
        "image_names"
      ],
      "metadata": {
        "colab": {
          "base_uri": "https://localhost:8080/"
        },
        "id": "2R9YCOpeQtmB",
        "outputId": "28e02b62-ca97-4371-d27b-58add3cbdf20"
      },
      "execution_count": null,
      "outputs": [
        {
          "output_type": "execute_result",
          "data": {
            "text/plain": [
              "array(['1592461954.png', '1592462136.png', '1592462768.png', ...,\n",
              "       '1624913244.png', '1624915046.png', '1624915346.png'], dtype='<U14')"
            ]
          },
          "metadata": {},
          "execution_count": 18
        }
      ]
    },
    {
      "cell_type": "code",
      "source": [
        "all_imgs = len(image_names)\n",
        "train_imgs = int(all_imgs * 0.7)\n",
        "val_imgs = all_imgs - train_imgs\n",
        "print(all_imgs)\n",
        "print(train_imgs)\n",
        "print(val_imgs)"
      ],
      "metadata": {
        "colab": {
          "base_uri": "https://localhost:8080/"
        },
        "id": "CEYf9CO-GyGk",
        "outputId": "3b650548-c228-42f5-e543-9c3131a7542d"
      },
      "execution_count": null,
      "outputs": [
        {
          "output_type": "stream",
          "name": "stdout",
          "text": [
            "86083\n",
            "60258\n",
            "25825\n"
          ]
        }
      ]
    },
    {
      "cell_type": "code",
      "source": [
        "train = image_names[:train_imgs]\n",
        "val = image_names[train_imgs:]"
      ],
      "metadata": {
        "id": "uD8SZsUeHDxa"
      },
      "execution_count": null,
      "outputs": []
    },
    {
      "cell_type": "code",
      "source": [
        "train.tofile('train_image_names.csv', sep = ',') \n",
        "val.tofile('val_image_names.csv', sep = ',') "
      ],
      "metadata": {
        "id": "MGYIdJgBHNeH"
      },
      "execution_count": null,
      "outputs": []
    },
    {
      "cell_type": "code",
      "source": [
        "image_names.tofile('image_names.csv', sep = ',') "
      ],
      "metadata": {
        "id": "EQpD0GfUPe7D"
      },
      "execution_count": null,
      "outputs": []
    },
    {
      "cell_type": "code",
      "source": [
        "img = Image.open(f'/content/colab_directory/train_radarNJ/bkk_radar_images_all/{image_names[0]}')"
      ],
      "metadata": {
        "id": "uy6_xDzePDRp"
      },
      "execution_count": null,
      "outputs": []
    },
    {
      "cell_type": "code",
      "source": [
        "img_rgb = img.convert('RGB')"
      ],
      "metadata": {
        "id": "Wst8ZwwSTJ3J"
      },
      "execution_count": null,
      "outputs": []
    },
    {
      "cell_type": "code",
      "source": [
        "img_rgb_array = np.array(img_rgb)"
      ],
      "metadata": {
        "id": "up_bdVLtTqcv"
      },
      "execution_count": null,
      "outputs": []
    },
    {
      "cell_type": "code",
      "source": [
        "img_rgb_array[0]"
      ],
      "metadata": {
        "colab": {
          "base_uri": "https://localhost:8080/"
        },
        "id": "QolRyFZMT30n",
        "outputId": "3f9197c2-8b2b-4a7b-98bc-ac41c2dca7ca"
      },
      "execution_count": null,
      "outputs": [
        {
          "output_type": "execute_result",
          "data": {
            "text/plain": [
              "array([[165, 151,  95],\n",
              "       [165, 151,  95],\n",
              "       [165, 151,  95],\n",
              "       ...,\n",
              "       [165, 151,  95],\n",
              "       [165, 151,  95],\n",
              "       [165, 151,  95]], dtype=uint8)"
            ]
          },
          "metadata": {},
          "execution_count": 34
        }
      ]
    },
    {
      "cell_type": "code",
      "source": [
        "img_array = np.array(img)"
      ],
      "metadata": {
        "id": "MWqqpnPEUAF3"
      },
      "execution_count": null,
      "outputs": []
    },
    {
      "cell_type": "code",
      "source": [
        "img_array.shape"
      ],
      "metadata": {
        "colab": {
          "base_uri": "https://localhost:8080/"
        },
        "id": "OGYcqcuL6TM-",
        "outputId": "add5a532-92e8-44e7-8eb5-0056ea2bf359"
      },
      "execution_count": null,
      "outputs": [
        {
          "output_type": "execute_result",
          "data": {
            "text/plain": [
              "(2034, 2048, 4)"
            ]
          },
          "metadata": {},
          "execution_count": 16
        }
      ]
    },
    {
      "cell_type": "code",
      "source": [
        "img_array"
      ],
      "metadata": {
        "colab": {
          "base_uri": "https://localhost:8080/"
        },
        "id": "xUe0EnA9UIkR",
        "outputId": "6d5abdfe-f0ae-4748-fa34-ed957569c55f"
      },
      "execution_count": null,
      "outputs": [
        {
          "output_type": "execute_result",
          "data": {
            "text/plain": [
              "array([[[165, 151,  95,   0],\n",
              "        [165, 151,  95,   0],\n",
              "        [165, 151,  95,   0],\n",
              "        ...,\n",
              "        [165, 151,  95,   0],\n",
              "        [165, 151,  95,   0],\n",
              "        [165, 151,  95,   0]],\n",
              "\n",
              "       [[165, 151,  95,   0],\n",
              "        [165, 151,  95,   0],\n",
              "        [165, 151,  95,   0],\n",
              "        ...,\n",
              "        [165, 151,  95,   0],\n",
              "        [165, 151,  95,   0],\n",
              "        [165, 151,  95,   0]],\n",
              "\n",
              "       [[165, 151,  95,   0],\n",
              "        [165, 151,  95,   0],\n",
              "        [165, 151,  95,   0],\n",
              "        ...,\n",
              "        [165, 151,  95,   0],\n",
              "        [165, 151,  95,   0],\n",
              "        [165, 151,  95,   0]],\n",
              "\n",
              "       ...,\n",
              "\n",
              "       [[165, 151,  95,   0],\n",
              "        [165, 151,  95,   0],\n",
              "        [165, 151,  95,   0],\n",
              "        ...,\n",
              "        [165, 151,  95,   0],\n",
              "        [165, 151,  95,   0],\n",
              "        [165, 151,  95,   0]],\n",
              "\n",
              "       [[165, 151,  95,   0],\n",
              "        [165, 151,  95,   0],\n",
              "        [165, 151,  95,   0],\n",
              "        ...,\n",
              "        [165, 151,  95,   0],\n",
              "        [165, 151,  95,   0],\n",
              "        [165, 151,  95,   0]],\n",
              "\n",
              "       [[165, 151,  95,   0],\n",
              "        [165, 151,  95,   0],\n",
              "        [165, 151,  95,   0],\n",
              "        ...,\n",
              "        [165, 151,  95,   0],\n",
              "        [165, 151,  95,   0],\n",
              "        [165, 151,  95,   0]]], dtype=uint8)"
            ]
          },
          "metadata": {},
          "execution_count": 36
        }
      ]
    },
    {
      "cell_type": "code",
      "source": [
        "tmp = cv2.imread(f'/content/colab_directory/train_radarNJ/bkk_radar_images_all/{image_names[0]}')"
      ],
      "metadata": {
        "id": "cvbEAt7JUrMQ"
      },
      "execution_count": null,
      "outputs": []
    },
    {
      "cell_type": "code",
      "source": [
        "tmp.shape"
      ],
      "metadata": {
        "colab": {
          "base_uri": "https://localhost:8080/"
        },
        "id": "DoRhTiSx6a_q",
        "outputId": "03062bad-e42e-42c6-db4a-a6ff061827e1"
      },
      "execution_count": null,
      "outputs": [
        {
          "output_type": "execute_result",
          "data": {
            "text/plain": [
              "(2034, 2048, 3)"
            ]
          },
          "metadata": {},
          "execution_count": 21
        }
      ]
    },
    {
      "cell_type": "code",
      "source": [
        "plt.imshow(img_array)"
      ],
      "metadata": {
        "colab": {
          "base_uri": "https://localhost:8080/",
          "height": 286
        },
        "id": "Zy9r0S8UULVh",
        "outputId": "c87aef71-378e-46d0-9035-655d979428e3"
      },
      "execution_count": null,
      "outputs": [
        {
          "output_type": "execute_result",
          "data": {
            "text/plain": [
              "<matplotlib.image.AxesImage at 0x7f8ca46af150>"
            ]
          },
          "metadata": {},
          "execution_count": 37
        },
        {
          "output_type": "display_data",
          "data": {
            "text/plain": [
              "<Figure size 432x288 with 1 Axes>"
            ],
            "image/png": "[encoded data removed]"
          },
          "metadata": {
            "needs_background": "light"
          }
        }
      ]
    },
    {
      "cell_type": "code",
      "source": [
        "plt.imshow(img_rgb)\n",
        "plt.show()"
      ],
      "metadata": {
        "colab": {
          "base_uri": "https://localhost:8080/",
          "height": 269
        },
        "id": "C1q1D462TmG-",
        "outputId": "bd9b9028-784a-475b-98b3-f39c0d5d273e"
      },
      "execution_count": null,
      "outputs": [
        {
          "output_type": "display_data",
          "data": {
            "text/plain": [
              "<Figure size 432x288 with 1 Axes>"
            ],
            "image/png": "[encoded data removed]"
          },
          "metadata": {
            "needs_background": "light"
          }
        }
      ]
    },
    {
      "cell_type": "markdown",
      "source": [
        "# sample dataset"
      ],
      "metadata": {
        "id": "g44OVeW7myYV"
      }
    },
    {
      "cell_type": "code",
      "source": [
        "NUM = 1000\n",
        "sample_train = image_names[:1000]\n",
        "sample_val = image_names[1000:1300]"
      ],
      "metadata": {
        "id": "2vv4hD4Qmx-u"
      },
      "execution_count": null,
      "outputs": []
    },
    {
      "cell_type": "code",
      "source": [
        "sample_train.tofile('sample_train_image_names.csv', sep = ',') \n",
        "sample_val.tofile('sample_val_image_names.csv', sep = ',') "
      ],
      "metadata": {
        "id": "4Nq24TpMn7YR"
      },
      "execution_count": null,
      "outputs": []
    },
    {
      "cell_type": "code",
      "source": [
        "sample_test = image_names[1300:1600]\n",
        "sample_test.tofile('sample_test_image_names.csv', sep = ',') "
      ],
      "metadata": {
        "id": "3fJhQ01VGfXR"
      },
      "execution_count": null,
      "outputs": []
    },
    {
      "cell_type": "markdown",
      "source": [
        "# Train Test split /2"
      ],
      "metadata": {
        "id": "P4z2h_D9MF9E"
      }
    },
    {
      "cell_type": "code",
      "source": [
        "#file1,2,3"
      ],
      "metadata": {
        "id": "oyeZXN9pMKAM"
      },
      "execution_count": null,
      "outputs": []
    },
    {
      "cell_type": "code",
      "source": [
        "file_nums_12345 = 4864*5\n",
        "val_nums_6 = 4864"
      ],
      "metadata": {
        "id": "JXixG_yiUC_i"
      },
      "execution_count": null,
      "outputs": []
    },
    {
      "cell_type": "code",
      "source": [
        "file_nums_12345"
      ],
      "metadata": {
        "colab": {
          "base_uri": "https://localhost:8080/"
        },
        "id": "PRL6amkhUufm",
        "outputId": "37c23160-27f1-4ba9-dd4e-66dd6ab08482"
      },
      "execution_count": null,
      "outputs": [
        {
          "output_type": "execute_result",
          "data": {
            "text/plain": [
              "24320"
            ]
          },
          "metadata": {},
          "execution_count": 22
        }
      ]
    },
    {
      "cell_type": "code",
      "source": [
        "train2 = image_names[:file_nums_12345]\n",
        "val2= image_names[file_nums_12345:file_nums_12345+val_nums_6 ]"
      ],
      "metadata": {
        "id": "3rfRHgDTUwjj"
      },
      "execution_count": null,
      "outputs": []
    },
    {
      "cell_type": "code",
      "source": [
        "len(val2)"
      ],
      "metadata": {
        "colab": {
          "base_uri": "https://localhost:8080/"
        },
        "id": "q4J1BkgOVYCU",
        "outputId": "c07a8e99-1fde-48f9-874b-c2df86b67a8b"
      },
      "execution_count": null,
      "outputs": [
        {
          "output_type": "execute_result",
          "data": {
            "text/plain": [
              "4864"
            ]
          },
          "metadata": {},
          "execution_count": 30
        }
      ]
    },
    {
      "cell_type": "code",
      "source": [
        "train2.tofile('train2_image_names.csv', sep = ',') \n",
        "val2.tofile('val2_image_names.csv', sep = ',') "
      ],
      "metadata": {
        "id": "8uD88W3EU9km"
      },
      "execution_count": null,
      "outputs": []
    },
    {
      "cell_type": "code",
      "source": [
        "file_nums_123 = 4864*4\n",
        "val_nums_4 = 4864"
      ],
      "metadata": {
        "id": "PYyPhNPvWjKQ"
      },
      "execution_count": null,
      "outputs": []
    },
    {
      "cell_type": "code",
      "source": [
        "rainnet_train = image_names[:file_nums_123]\n",
        "rainnet_val = image_names[file_nums_123:file_nums_123+val_nums_4]"
      ],
      "metadata": {
        "id": "VWuNkGRdWdy6"
      },
      "execution_count": null,
      "outputs": []
    },
    {
      "cell_type": "code",
      "source": [
        "rainnet_train.tofile('rainnet_train_image_names.csv', sep = ',') \n",
        "rainnet_val.tofile('rainnet_val_image_names.csv', sep = ',') "
      ],
      "metadata": {
        "id": "-UNZZhQpXDs0"
      },
      "execution_count": null,
      "outputs": []
    },
    {
      "cell_type": "code",
      "source": [
        "train3 = image_names[4864*3:4864*4]\n",
        "val3 = image_names[4864*4:(4864*4+4864//2)]"
      ],
      "metadata": {
        "id": "SYkpoN0ObDsl"
      },
      "execution_count": null,
      "outputs": []
    },
    {
      "cell_type": "code",
      "source": [
        "len(train3)"
      ],
      "metadata": {
        "colab": {
          "base_uri": "https://localhost:8080/"
        },
        "id": "hkUMM2rFbVfF",
        "outputId": "28a13005-ce79-4aac-e9ad-10702d192abf"
      },
      "execution_count": null,
      "outputs": [
        {
          "output_type": "execute_result",
          "data": {
            "text/plain": [
              "4864"
            ]
          },
          "metadata": {},
          "execution_count": 45
        }
      ]
    },
    {
      "cell_type": "code",
      "source": [
        "len(val3)"
      ],
      "metadata": {
        "colab": {
          "base_uri": "https://localhost:8080/"
        },
        "id": "bDqufbKEbXQd",
        "outputId": "2a422d55-3953-4bb0-dd33-5ce4c7a6f721"
      },
      "execution_count": null,
      "outputs": [
        {
          "output_type": "execute_result",
          "data": {
            "text/plain": [
              "2432"
            ]
          },
          "metadata": {},
          "execution_count": 46
        }
      ]
    },
    {
      "cell_type": "code",
      "source": [
        "train3.tofile('train3_image_names.csv', sep = ',') \n",
        "val3.tofile('val3_image_names.csv', sep = ',') "
      ],
      "metadata": {
        "id": "9RJY-DLVbsXF"
      },
      "execution_count": null,
      "outputs": []
    }
  ]
}